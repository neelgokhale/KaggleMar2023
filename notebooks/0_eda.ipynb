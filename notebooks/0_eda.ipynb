{
 "cells": [
  {
   "cell_type": "markdown",
   "id": "ca8bce88-7253-4631-af0c-64e10deddb07",
   "metadata": {
    "tags": []
   },
   "source": [
    "# Kaggle Competiton - Mar 2023\n",
    "## GoDaddy MicroBusiness Density Forecasting - Time Series Feature Selection\n",
    "**Link to competition**: [CLICK ME](https://www.kaggle.com/competitions/godaddy-microbusiness-density-forecasting/overview)"
   ]
  },
  {
   "cell_type": "code",
   "execution_count": 1,
   "metadata": {},
   "outputs": [],
   "source": [
    "import os\n",
    "import sys\n",
    "\n",
    "module_path = os.path.abspath(os.path.join('..', 'code'))\n",
    "if module_path not in sys.path:\n",
    "    sys.path.append(module_path)\n",
    "\n",
    "import pandas as pd\n",
    "import numpy as np\n",
    "import matplotlib.pyplot as plt\n",
    "import kmapper as km\n",
    "\n",
    "from constants import *\n",
    "from statsmodels.graphics.tsaplots import plot_acf\n",
    "from sklearn import ensemble\n",
    "from sklearn.cluster import KMeans"
   ]
  },
  {
   "cell_type": "code",
   "execution_count": 6,
   "metadata": {},
   "outputs": [
    {
     "data": {
      "text/plain": [
       "0       AL\n",
       "1       AL\n",
       "2       AL\n",
       "3       AL\n",
       "4       AL\n",
       "        ..\n",
       "3088    WY\n",
       "3089    WY\n",
       "3090    WY\n",
       "3091    WY\n",
       "3092    WY\n",
       "Name: state, Length: 3078, dtype: object"
      ]
     },
     "execution_count": 6,
     "metadata": {},
     "output_type": "execute_result"
    }
   ],
   "source": [
    "df = pd.read_csv(MD_PATH)\n",
    "df = df.dropna()\n",
    "df['cfips'] = df.loc[:, 'cfips'].astype('int').astype('str')\n",
    "u = df['cfips'].unique()\n",
    "cfips = {name: i for name, i in zip(u, range(len(u)))}\n",
    "df['n_cfips'] = df['cfips'].apply(lambda x: cfips[x])"
   ]
  },
  {
   "cell_type": "code",
   "execution_count": 3,
   "metadata": {},
   "outputs": [],
   "source": [
    "feature_names = [n for n in df.columns if n not in ['county', 'state', 'cfips'] and 'md' not in n]\n",
    "X = df[feature_names].values\n",
    "y = df[[n for n in df.columns if \"md\" in n]].values"
   ]
  },
  {
   "cell_type": "code",
   "execution_count": 15,
   "metadata": {},
   "outputs": [
    {
     "name": "stdout",
     "output_type": "stream",
     "text": [
      "KeplerMapper(verbose=3)\n",
      "..Composing projection pipeline of length 1:\n",
      "\tProjections: l2norm\n",
      "\tDistance matrices: False\n",
      "\tScalers: MinMaxScaler()\n",
      "..Projecting on data shaped (3078, 37)\n",
      "\n",
      "..Projecting data using: l2norm\n",
      "\n",
      "..Scaling with: MinMaxScaler()\n",
      "\n"
     ]
    },
    {
     "data": {
      "text/plain": [
       "array([[ 0.12577791,  0.00456183],\n",
       "       [-0.02735091,  0.0190556 ],\n",
       "       [ 0.15381665,  0.0020211 ],\n",
       "       ...,\n",
       "       [ 0.12730447,  0.00167653],\n",
       "       [ 0.14741045,  0.00065431],\n",
       "       [ 0.14570339,  0.00058261]])"
      ]
     },
     "execution_count": 15,
     "metadata": {},
     "output_type": "execute_result"
    }
   ],
   "source": [
    "model = ensemble.IsolationForest(random_state=1028)\n",
    "model.fit(X)\n",
    "lens1 = model.decision_function(X).reshape((X.shape[0], 1))\n",
    "\n",
    "mapper = km.KeplerMapper(verbose=3)\n",
    "lens2 = mapper.fit_transform(X, projection='l2norm')\n",
    "\n",
    "lens = np.c_[lens1, lens2]\n",
    "lens"
   ]
  },
  {
   "cell_type": "code",
   "execution_count": 18,
   "metadata": {},
   "outputs": [
    {
     "name": "stdout",
     "output_type": "stream",
     "text": [
      "Mapping on data shaped (3078, 37) using lens shaped (3078, 2)\n",
      "\n",
      "Minimal points in hypercube before clustering: 5\n",
      "Creating 100 hypercubes.\n",
      "Cube_0 is empty.\n",
      "\n",
      "   > Found 5 clusters in hypercube 1.\n",
      "   > Found 5 clusters in hypercube 2.\n",
      "   > Found 5 clusters in hypercube 3.\n",
      "Cube_4 is empty.\n",
      "\n",
      "Cube_5 is empty.\n",
      "\n",
      "Cube_6 is empty.\n",
      "\n",
      "   > Found 5 clusters in hypercube 7.\n",
      "   > Found 5 clusters in hypercube 8.\n",
      "   > Found 5 clusters in hypercube 9.\n",
      "Cube_10 is empty.\n",
      "\n",
      "Cube_11 is empty.\n",
      "\n",
      "   > Found 5 clusters in hypercube 12.\n",
      "   > Found 5 clusters in hypercube 13.\n",
      "   > Found 5 clusters in hypercube 14.\n",
      "   > Found 5 clusters in hypercube 15.\n",
      "   > Found 5 clusters in hypercube 16.\n",
      "Cube_17 is empty.\n",
      "\n",
      "   > Found 5 clusters in hypercube 18.\n",
      "   > Found 5 clusters in hypercube 19.\n",
      "   > Found 5 clusters in hypercube 20.\n",
      "   > Found 5 clusters in hypercube 21.\n",
      "   > Found 5 clusters in hypercube 22.\n",
      "Cube_23 is empty.\n",
      "\n",
      "   > Found 5 clusters in hypercube 24.\n",
      "   > Found 5 clusters in hypercube 25.\n",
      "   > Found 5 clusters in hypercube 26.\n",
      "\n",
      "Created 204 edges and 95 nodes in 0:00:01.884935.\n"
     ]
    },
    {
     "ename": "Exception",
     "evalue": "2 `color_function_names` values found, but 1 columns found in color_values. Must be equal.",
     "output_type": "error",
     "traceback": [
      "\u001b[0;31m---------------------------------------------------------------------------\u001b[0m",
      "\u001b[0;31mException\u001b[0m                                 Traceback (most recent call last)",
      "\u001b[1;32m/Users/neelgokhale/Documents/PythonProjects/KaggleMar2023/notebooks/0_eda.ipynb Cell 6\u001b[0m in \u001b[0;36m<cell line: 12>\u001b[0;34m()\u001b[0m\n\u001b[1;32m      <a href='vscode-notebook-cell:/Users/neelgokhale/Documents/PythonProjects/KaggleMar2023/notebooks/0_eda.ipynb#X20sZmlsZQ%3D%3D?line=2'>3</a>\u001b[0m PER_OVERLAPP \u001b[39m=\u001b[39m \u001b[39m0.5\u001b[39m\n\u001b[1;32m      <a href='vscode-notebook-cell:/Users/neelgokhale/Documents/PythonProjects/KaggleMar2023/notebooks/0_eda.ipynb#X20sZmlsZQ%3D%3D?line=4'>5</a>\u001b[0m graph \u001b[39m=\u001b[39m mapper\u001b[39m.\u001b[39mmap(\n\u001b[1;32m      <a href='vscode-notebook-cell:/Users/neelgokhale/Documents/PythonProjects/KaggleMar2023/notebooks/0_eda.ipynb#X20sZmlsZQ%3D%3D?line=5'>6</a>\u001b[0m     lens,\n\u001b[1;32m      <a href='vscode-notebook-cell:/Users/neelgokhale/Documents/PythonProjects/KaggleMar2023/notebooks/0_eda.ipynb#X20sZmlsZQ%3D%3D?line=6'>7</a>\u001b[0m     X,\n\u001b[1;32m      <a href='vscode-notebook-cell:/Users/neelgokhale/Documents/PythonProjects/KaggleMar2023/notebooks/0_eda.ipynb#X20sZmlsZQ%3D%3D?line=7'>8</a>\u001b[0m     cover\u001b[39m=\u001b[39mkm\u001b[39m.\u001b[39mCover(n_cubes\u001b[39m=\u001b[39mN_CUBES, perc_overlap\u001b[39m=\u001b[39mPER_OVERLAPP),\n\u001b[1;32m      <a href='vscode-notebook-cell:/Users/neelgokhale/Documents/PythonProjects/KaggleMar2023/notebooks/0_eda.ipynb#X20sZmlsZQ%3D%3D?line=8'>9</a>\u001b[0m     clusterer\u001b[39m=\u001b[39mKMeans(n_clusters\u001b[39m=\u001b[39mN_CLUSTERS, random_state\u001b[39m=\u001b[39m\u001b[39m1028\u001b[39m)\n\u001b[1;32m     <a href='vscode-notebook-cell:/Users/neelgokhale/Documents/PythonProjects/KaggleMar2023/notebooks/0_eda.ipynb#X20sZmlsZQ%3D%3D?line=9'>10</a>\u001b[0m )\n\u001b[0;32m---> <a href='vscode-notebook-cell:/Users/neelgokhale/Documents/PythonProjects/KaggleMar2023/notebooks/0_eda.ipynb#X20sZmlsZQ%3D%3D?line=11'>12</a>\u001b[0m mapper\u001b[39m.\u001b[39;49mvisualize(\n\u001b[1;32m     <a href='vscode-notebook-cell:/Users/neelgokhale/Documents/PythonProjects/KaggleMar2023/notebooks/0_eda.ipynb#X20sZmlsZQ%3D%3D?line=12'>13</a>\u001b[0m     graph,\n\u001b[1;32m     <a href='vscode-notebook-cell:/Users/neelgokhale/Documents/PythonProjects/KaggleMar2023/notebooks/0_eda.ipynb#X20sZmlsZQ%3D%3D?line=13'>14</a>\u001b[0m     path_html\u001b[39m=\u001b[39;49mos\u001b[39m.\u001b[39;49mpath\u001b[39m.\u001b[39;49mjoin(OUTPUT_DIR, \u001b[39m'\u001b[39;49m\u001b[39mmap.html\u001b[39;49m\u001b[39m'\u001b[39;49m),\n\u001b[1;32m     <a href='vscode-notebook-cell:/Users/neelgokhale/Documents/PythonProjects/KaggleMar2023/notebooks/0_eda.ipynb#X20sZmlsZQ%3D%3D?line=14'>15</a>\u001b[0m     title\u001b[39m=\u001b[39;49m\u001b[39m\"\u001b[39;49m\u001b[39mMD Clustering 2019-2021\u001b[39;49m\u001b[39m\"\u001b[39;49m,\n\u001b[1;32m     <a href='vscode-notebook-cell:/Users/neelgokhale/Documents/PythonProjects/KaggleMar2023/notebooks/0_eda.ipynb#X20sZmlsZQ%3D%3D?line=15'>16</a>\u001b[0m     custom_tooltips\u001b[39m=\u001b[39;49mdf\u001b[39m.\u001b[39;49mloc[:, \u001b[39m'\u001b[39;49m\u001b[39mcounty\u001b[39;49m\u001b[39m'\u001b[39;49m],\n\u001b[1;32m     <a href='vscode-notebook-cell:/Users/neelgokhale/Documents/PythonProjects/KaggleMar2023/notebooks/0_eda.ipynb#X20sZmlsZQ%3D%3D?line=16'>17</a>\u001b[0m     color_values\u001b[39m=\u001b[39;49mlens[\u001b[39m0\u001b[39;49m, :],\n\u001b[1;32m     <a href='vscode-notebook-cell:/Users/neelgokhale/Documents/PythonProjects/KaggleMar2023/notebooks/0_eda.ipynb#X20sZmlsZQ%3D%3D?line=17'>18</a>\u001b[0m     color_function_name\u001b[39m=\u001b[39;49m[\u001b[39m\"\u001b[39;49m\u001b[39mIsolation Forest\u001b[39;49m\u001b[39m\"\u001b[39;49m, \u001b[39m\"\u001b[39;49m\u001b[39mL2-norm\u001b[39;49m\u001b[39m\"\u001b[39;49m],\n\u001b[1;32m     <a href='vscode-notebook-cell:/Users/neelgokhale/Documents/PythonProjects/KaggleMar2023/notebooks/0_eda.ipynb#X20sZmlsZQ%3D%3D?line=18'>19</a>\u001b[0m     node_color_function\u001b[39m=\u001b[39;49m[\u001b[39m\"\u001b[39;49m\u001b[39mmean\u001b[39;49m\u001b[39m\"\u001b[39;49m, \u001b[39m\"\u001b[39;49m\u001b[39mstd\u001b[39;49m\u001b[39m\"\u001b[39;49m, \u001b[39m\"\u001b[39;49m\u001b[39mmedian\u001b[39;49m\u001b[39m\"\u001b[39;49m, \u001b[39m\"\u001b[39;49m\u001b[39mmax\u001b[39;49m\u001b[39m\"\u001b[39;49m],\n\u001b[1;32m     <a href='vscode-notebook-cell:/Users/neelgokhale/Documents/PythonProjects/KaggleMar2023/notebooks/0_eda.ipynb#X20sZmlsZQ%3D%3D?line=19'>20</a>\u001b[0m )\n",
      "File \u001b[0;32m~/miniforge3/envs/tfm1/lib/python3.9/site-packages/kmapper/utils.py:11\u001b[0m, in \u001b[0;36mdeprecated_alias.<locals>.deco.<locals>.wrapper\u001b[0;34m(*args, **kwargs)\u001b[0m\n\u001b[1;32m      8\u001b[0m \u001b[39m@functools\u001b[39m\u001b[39m.\u001b[39mwraps(f)\n\u001b[1;32m      9\u001b[0m \u001b[39mdef\u001b[39;00m \u001b[39mwrapper\u001b[39m(\u001b[39m*\u001b[39margs, \u001b[39m*\u001b[39m\u001b[39m*\u001b[39mkwargs):\n\u001b[1;32m     10\u001b[0m     rename_kwargs(f\u001b[39m.\u001b[39m\u001b[39m__name__\u001b[39m, kwargs, aliases)\n\u001b[0;32m---> 11\u001b[0m     \u001b[39mreturn\u001b[39;00m f(\u001b[39m*\u001b[39;49margs, \u001b[39m*\u001b[39;49m\u001b[39m*\u001b[39;49mkwargs)\n",
      "File \u001b[0;32m~/miniforge3/envs/tfm1/lib/python3.9/site-packages/kmapper/kmapper.py:882\u001b[0m, in \u001b[0;36mKeplerMapper.visualize\u001b[0;34m(self, graph, color_values, color_function_name, node_color_function, colorscale, custom_tooltips, custom_meta, path_html, title, save_file, X, X_names, lens, lens_names, nbins, include_searchbar)\u001b[0m\n\u001b[1;32m    880\u001b[0m     num_color_function_names \u001b[39m=\u001b[39m \u001b[39mlen\u001b[39m(color_function_name)\n\u001b[1;32m    881\u001b[0m     \u001b[39mif\u001b[39;00m num_color_value_vectors \u001b[39m!=\u001b[39m num_color_function_names:\n\u001b[0;32m--> 882\u001b[0m         \u001b[39mraise\u001b[39;00m \u001b[39mException\u001b[39;00m(\n\u001b[1;32m    883\u001b[0m             \u001b[39m\"\u001b[39m\u001b[39m{}\u001b[39;00m\u001b[39m `color_function_names` values found, but \u001b[39m\u001b[39m{}\u001b[39;00m\u001b[39m columns found in color_values. Must be equal.\u001b[39m\u001b[39m\"\u001b[39m\u001b[39m.\u001b[39mformat(\n\u001b[1;32m    884\u001b[0m                 num_color_function_names, num_color_value_vectors\n\u001b[1;32m    885\u001b[0m             )\n\u001b[1;32m    886\u001b[0m         )\n\u001b[1;32m    888\u001b[0m color_values \u001b[39m=\u001b[39m _scale_color_values(color_values)\n\u001b[1;32m    890\u001b[0m mapper_data \u001b[39m=\u001b[39m _format_mapper_data(\n\u001b[1;32m    891\u001b[0m     graph,\n\u001b[1;32m    892\u001b[0m     color_values,\n\u001b[0;32m   (...)\u001b[0m\n\u001b[1;32m    900\u001b[0m     colorscale\u001b[39m=\u001b[39mcolorscale,\n\u001b[1;32m    901\u001b[0m )\n",
      "\u001b[0;31mException\u001b[0m: 2 `color_function_names` values found, but 1 columns found in color_values. Must be equal."
     ]
    }
   ],
   "source": [
    "N_CUBES = 10\n",
    "N_CLUSTERS = 5\n",
    "PER_OVERLAPP = 0.5\n",
    "\n",
    "graph = mapper.map(\n",
    "    lens,\n",
    "    X,\n",
    "    cover=km.Cover(n_cubes=N_CUBES, perc_overlap=PER_OVERLAPP),\n",
    "    clusterer=KMeans(n_clusters=N_CLUSTERS, random_state=1028)\n",
    ")\n",
    "\n",
    "mapper.visualize(\n",
    "    graph,\n",
    "    path_html=os.path.join(OUTPUT_DIR, 'map.html'),\n",
    "    title=\"MD Clustering 2019-2021\",\n",
    "    custom_tooltips=df.loc[:, 'county'],\n",
    "    color_values=lens[0, :],\n",
    "    color_function_name=[\"Isolation Forest\", \"L2-norm\"],\n",
    "    node_color_function=[\"mean\", \"std\", \"median\", \"max\"],\n",
    ")\n"
   ]
  },
  {
   "cell_type": "code",
   "execution_count": null,
   "metadata": {},
   "outputs": [],
   "source": [
    "df1 ="
   ]
  },
  {
   "cell_type": "code",
   "execution_count": null,
   "metadata": {},
   "outputs": [],
   "source": []
  },
  {
   "cell_type": "code",
   "execution_count": null,
   "metadata": {},
   "outputs": [],
   "source": []
  },
  {
   "cell_type": "code",
   "execution_count": null,
   "metadata": {},
   "outputs": [],
   "source": []
  }
 ],
 "metadata": {
  "kernelspec": {
   "display_name": "tfm1",
   "language": "python",
   "name": "python3"
  },
  "language_info": {
   "codemirror_mode": {
    "name": "ipython",
    "version": 3
   },
   "file_extension": ".py",
   "mimetype": "text/x-python",
   "name": "python",
   "nbconvert_exporter": "python",
   "pygments_lexer": "ipython3",
   "version": "3.9.12"
  },
  "orig_nbformat": 4,
  "vscode": {
   "interpreter": {
    "hash": "315248d392f73b1a7afde59aaae4fff594aacc9906efdd211a7e6c94e851e1cc"
   }
  }
 },
 "nbformat": 4,
 "nbformat_minor": 2
}

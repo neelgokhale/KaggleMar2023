{
 "cells": [
  {
   "cell_type": "markdown",
   "id": "dd30fc12-0aed-483b-8ee1-5e336c44e46b",
   "metadata": {
    "tags": []
   },
   "source": [
    "# Kaggle Competiton - Mar 2023\n",
    "## GoDaddy MicroBusiness Density Forecasting\n",
    "**Link to competition**: [CLICK ME](https://www.kaggle.com/competitions/godaddy-microbusiness-density-forecasting/overview)"
   ]
  },
  {
   "cell_type": "markdown",
   "id": "8a07baf2-68e2-46ee-99c6-f63f08d6dbd3",
   "metadata": {},
   "source": []
  },
  {
   "cell_type": "markdown",
   "id": "ff071395-2737-4a3b-ace2-f2dd8b0a00e9",
   "metadata": {
    "tags": []
   },
   "source": [
    "## Setup"
   ]
  },
  {
   "cell_type": "markdown",
   "id": "a68c4928-c0f3-4ecc-b08f-927136187832",
   "metadata": {
    "tags": []
   },
   "source": [
    "### Imports"
   ]
  },
  {
   "cell_type": "code",
   "execution_count": 2,
   "id": "20565f75-3aaa-4954-9bad-420576c44bb9",
   "metadata": {},
   "outputs": [],
   "source": [
    "import os\n",
    "import sys\n",
    "\n",
    "module_path = os.path.abspath(os.path.join('..', 'code'))\n",
    "if module_path not in sys.path:\n",
    "    sys.path.append(module_path)\n",
    "    \n",
    "import pandas as pd\n",
    "import numpy as np\n",
    "import matplotlib.pyplot as plt\n",
    "\n",
    "from sklearn.linear_model import LinearRegression, SGDRegressor, Ridge\n",
    "from sklearn.model_selection import GridSearchCV, KFold\n",
    "from sklearn.pipeline import Pipeline\n",
    "\n",
    "from zipfile import ZipFile\n",
    "\n",
    "from constants import *"
   ]
  },
  {
   "cell_type": "markdown",
   "id": "9d189644-a4a1-40ad-b7bf-6d899677f189",
   "metadata": {},
   "source": [
    "### Kaggle API Setup"
   ]
  },
  {
   "cell_type": "code",
   "execution_count": 5,
   "id": "85e7d800-24a0-4002-a348-7fae3478da07",
   "metadata": {},
   "outputs": [],
   "source": [
    "from kaggle.api.kaggle_api_extended import KaggleApi\n",
    "\n",
    "api = KaggleApi()\n",
    "api.authenticate()"
   ]
  },
  {
   "cell_type": "markdown",
   "id": "5f20ee23-88f6-4169-b2d9-1c95b1adf19a",
   "metadata": {},
   "source": [
    "## Data Import"
   ]
  },
  {
   "cell_type": "code",
   "execution_count": 11,
   "id": "fc549ed1-4a80-4b4f-83ef-fec8eb701852",
   "metadata": {},
   "outputs": [
    {
     "name": "stdout",
     "output_type": "stream",
     "text": [
      "> census_starter.csv\n",
      "> test.csv\n",
      "> train.csv\n",
      "> godaddy-microbusiness-density-forecasting.zip\n",
      "> sample_submission.csv\n"
     ]
    }
   ],
   "source": [
    "# use kaggle api to download all comp files\n",
    "api.competition_download_files(competition='godaddy-microbusiness-density-forecasting',\n",
    "                               path=DATA_DIR)\n",
    "\n",
    "with ZipFile(os.path.join(DATA_DIR, 'godaddy-microbusiness-density-forecasting.zip'), \"r\") as f:\n",
    "    f.extractall(DATA_DIR)\n",
    "\n",
    "for f in os.listdir(DATA_DIR):\n",
    "    print(f\"> {f}\")"
   ]
  },
  {
   "cell_type": "code",
   "execution_count": 14,
   "id": "fbda1862-2828-4837-a6f3-6fa6f6cdd07c",
   "metadata": {},
   "outputs": [
    {
     "data": {
      "text/html": [
       "<div>\n",
       "<style scoped>\n",
       "    .dataframe tbody tr th:only-of-type {\n",
       "        vertical-align: middle;\n",
       "    }\n",
       "\n",
       "    .dataframe tbody tr th {\n",
       "        vertical-align: top;\n",
       "    }\n",
       "\n",
       "    .dataframe thead th {\n",
       "        text-align: right;\n",
       "    }\n",
       "</style>\n",
       "<table border=\"1\" class=\"dataframe\">\n",
       "  <thead>\n",
       "    <tr style=\"text-align: right;\">\n",
       "      <th></th>\n",
       "      <th>row_id</th>\n",
       "      <th>cfips</th>\n",
       "      <th>county</th>\n",
       "      <th>state</th>\n",
       "      <th>first_day_of_month</th>\n",
       "      <th>microbusiness_density</th>\n",
       "      <th>active</th>\n",
       "    </tr>\n",
       "  </thead>\n",
       "  <tbody>\n",
       "    <tr>\n",
       "      <th>0</th>\n",
       "      <td>1001_2019-08-01</td>\n",
       "      <td>1001</td>\n",
       "      <td>Autauga County</td>\n",
       "      <td>Alabama</td>\n",
       "      <td>2019-08-01</td>\n",
       "      <td>3.007682</td>\n",
       "      <td>1249</td>\n",
       "    </tr>\n",
       "    <tr>\n",
       "      <th>1</th>\n",
       "      <td>1001_2019-09-01</td>\n",
       "      <td>1001</td>\n",
       "      <td>Autauga County</td>\n",
       "      <td>Alabama</td>\n",
       "      <td>2019-09-01</td>\n",
       "      <td>2.884870</td>\n",
       "      <td>1198</td>\n",
       "    </tr>\n",
       "    <tr>\n",
       "      <th>2</th>\n",
       "      <td>1001_2019-10-01</td>\n",
       "      <td>1001</td>\n",
       "      <td>Autauga County</td>\n",
       "      <td>Alabama</td>\n",
       "      <td>2019-10-01</td>\n",
       "      <td>3.055843</td>\n",
       "      <td>1269</td>\n",
       "    </tr>\n",
       "    <tr>\n",
       "      <th>3</th>\n",
       "      <td>1001_2019-11-01</td>\n",
       "      <td>1001</td>\n",
       "      <td>Autauga County</td>\n",
       "      <td>Alabama</td>\n",
       "      <td>2019-11-01</td>\n",
       "      <td>2.993233</td>\n",
       "      <td>1243</td>\n",
       "    </tr>\n",
       "    <tr>\n",
       "      <th>4</th>\n",
       "      <td>1001_2019-12-01</td>\n",
       "      <td>1001</td>\n",
       "      <td>Autauga County</td>\n",
       "      <td>Alabama</td>\n",
       "      <td>2019-12-01</td>\n",
       "      <td>2.993233</td>\n",
       "      <td>1243</td>\n",
       "    </tr>\n",
       "    <tr>\n",
       "      <th>...</th>\n",
       "      <td>...</td>\n",
       "      <td>...</td>\n",
       "      <td>...</td>\n",
       "      <td>...</td>\n",
       "      <td>...</td>\n",
       "      <td>...</td>\n",
       "      <td>...</td>\n",
       "    </tr>\n",
       "    <tr>\n",
       "      <th>122260</th>\n",
       "      <td>56045_2022-06-01</td>\n",
       "      <td>56045</td>\n",
       "      <td>Weston County</td>\n",
       "      <td>Wyoming</td>\n",
       "      <td>2022-06-01</td>\n",
       "      <td>1.803249</td>\n",
       "      <td>101</td>\n",
       "    </tr>\n",
       "    <tr>\n",
       "      <th>122261</th>\n",
       "      <td>56045_2022-07-01</td>\n",
       "      <td>56045</td>\n",
       "      <td>Weston County</td>\n",
       "      <td>Wyoming</td>\n",
       "      <td>2022-07-01</td>\n",
       "      <td>1.803249</td>\n",
       "      <td>101</td>\n",
       "    </tr>\n",
       "    <tr>\n",
       "      <th>122262</th>\n",
       "      <td>56045_2022-08-01</td>\n",
       "      <td>56045</td>\n",
       "      <td>Weston County</td>\n",
       "      <td>Wyoming</td>\n",
       "      <td>2022-08-01</td>\n",
       "      <td>1.785395</td>\n",
       "      <td>100</td>\n",
       "    </tr>\n",
       "    <tr>\n",
       "      <th>122263</th>\n",
       "      <td>56045_2022-09-01</td>\n",
       "      <td>56045</td>\n",
       "      <td>Weston County</td>\n",
       "      <td>Wyoming</td>\n",
       "      <td>2022-09-01</td>\n",
       "      <td>1.785395</td>\n",
       "      <td>100</td>\n",
       "    </tr>\n",
       "    <tr>\n",
       "      <th>122264</th>\n",
       "      <td>56045_2022-10-01</td>\n",
       "      <td>56045</td>\n",
       "      <td>Weston County</td>\n",
       "      <td>Wyoming</td>\n",
       "      <td>2022-10-01</td>\n",
       "      <td>1.785395</td>\n",
       "      <td>100</td>\n",
       "    </tr>\n",
       "  </tbody>\n",
       "</table>\n",
       "<p>122265 rows × 7 columns</p>\n",
       "</div>"
      ],
      "text/plain": [
       "                  row_id  cfips          county    state first_day_of_month  \\\n",
       "0        1001_2019-08-01   1001  Autauga County  Alabama         2019-08-01   \n",
       "1        1001_2019-09-01   1001  Autauga County  Alabama         2019-09-01   \n",
       "2        1001_2019-10-01   1001  Autauga County  Alabama         2019-10-01   \n",
       "3        1001_2019-11-01   1001  Autauga County  Alabama         2019-11-01   \n",
       "4        1001_2019-12-01   1001  Autauga County  Alabama         2019-12-01   \n",
       "...                  ...    ...             ...      ...                ...   \n",
       "122260  56045_2022-06-01  56045   Weston County  Wyoming         2022-06-01   \n",
       "122261  56045_2022-07-01  56045   Weston County  Wyoming         2022-07-01   \n",
       "122262  56045_2022-08-01  56045   Weston County  Wyoming         2022-08-01   \n",
       "122263  56045_2022-09-01  56045   Weston County  Wyoming         2022-09-01   \n",
       "122264  56045_2022-10-01  56045   Weston County  Wyoming         2022-10-01   \n",
       "\n",
       "        microbusiness_density  active  \n",
       "0                    3.007682    1249  \n",
       "1                    2.884870    1198  \n",
       "2                    3.055843    1269  \n",
       "3                    2.993233    1243  \n",
       "4                    2.993233    1243  \n",
       "...                       ...     ...  \n",
       "122260               1.803249     101  \n",
       "122261               1.803249     101  \n",
       "122262               1.785395     100  \n",
       "122263               1.785395     100  \n",
       "122264               1.785395     100  \n",
       "\n",
       "[122265 rows x 7 columns]"
      ]
     },
     "execution_count": 14,
     "metadata": {},
     "output_type": "execute_result"
    }
   ],
   "source": [
    "df_train_raw = pd.read_csv(DATA_DIR + \"/train.csv\")\n",
    "df_train_raw"
   ]
  },
  {
   "cell_type": "code",
   "execution_count": null,
   "id": "09d2dd36-ac1d-4681-adf6-c2c7b5a09297",
   "metadata": {},
   "outputs": [],
   "source": []
  }
 ],
 "metadata": {
  "kernelspec": {
   "display_name": "tfm1",
   "language": "python",
   "name": "python3"
  },
  "language_info": {
   "codemirror_mode": {
    "name": "ipython",
    "version": 3
   },
   "file_extension": ".py",
   "mimetype": "text/x-python",
   "name": "python",
   "nbconvert_exporter": "python",
   "pygments_lexer": "ipython3",
   "version": "3.9.12 | packaged by conda-forge | (main, Mar 24 2022, 23:24:38) \n[Clang 12.0.1 ]"
  },
  "vscode": {
   "interpreter": {
    "hash": "315248d392f73b1a7afde59aaae4fff594aacc9906efdd211a7e6c94e851e1cc"
   }
  }
 },
 "nbformat": 4,
 "nbformat_minor": 5
}
